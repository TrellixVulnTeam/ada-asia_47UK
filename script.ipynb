{
 "cells": [
  {
   "cell_type": "code",
   "execution_count": 35,
   "id": "5ab01e5d",
   "metadata": {},
   "outputs": [],
   "source": [
    "import pandas as pd, numpy as np\n",
    "import requests\n",
    "import json\n",
    "import time\n"
   ]
  },
  {
   "cell_type": "code",
   "execution_count": 3,
   "id": "d482d090",
   "metadata": {},
   "outputs": [],
   "source": [
    "final_data = []"
   ]
  },
  {
   "cell_type": "code",
   "execution_count": 43,
   "id": "1c75f927",
   "metadata": {},
   "outputs": [],
   "source": [
    "url = \"https://maps.googleapis.com/maps/api/place/textsearch/json?query=restaurant&location=23.684994,90.356331&region=bn&type=restaurant&key=YOUR_API_KEY\"\n",
    "restaurant_extend = []\n",
    "params= {}\n",
    "#headers = {}\n",
    "response = requests.request(\"GET\", url,) #headers=headers, data=payload)\n",
    "results = json.loads(response.content)\n",
    "restaurant_extend.extend(results['results'])\n",
    "time.sleep(2)\n",
    "while \"next_page_token\" in results:\n",
    "    params['token'] = results['next_page_token']\n",
    "    response = requests.request(\"GET\", url,) #headers=headers, data=payload)\n",
    "    results = json.loads(response.content)\n",
    "    restaurant_extend.extend(results['results'])\n",
    "    time.sleep(2)"
   ]
  },
  {
   "cell_type": "code",
   "execution_count": 50,
   "id": "415b616a",
   "metadata": {},
   "outputs": [
    {
     "ename": "TypeError",
     "evalue": "list indices must be integers or slices, not str",
     "output_type": "error",
     "traceback": [
      "\u001b[0;31m---------------------------------------------------------------------------\u001b[0m",
      "\u001b[0;31mTypeError\u001b[0m                                 Traceback (most recent call last)",
      "Input \u001b[0;32mIn [50]\u001b[0m, in \u001b[0;36m<module>\u001b[0;34m\u001b[0m\n\u001b[1;32m      5\u001b[0m n_reviews \u001b[38;5;241m=\u001b[39m[]\n\u001b[1;32m      6\u001b[0m price \u001b[38;5;241m=\u001b[39m []\n\u001b[0;32m----> 7\u001b[0m \u001b[38;5;28;01mfor\u001b[39;00m place \u001b[38;5;129;01min\u001b[39;00m \u001b[43mrestaurant_extend\u001b[49m\u001b[43m[\u001b[49m\u001b[38;5;124;43m'\u001b[39;49m\u001b[38;5;124;43mplace_id\u001b[39;49m\u001b[38;5;124;43m'\u001b[39;49m\u001b[43m]\u001b[49m:\n\u001b[1;32m      8\u001b[0m     ids \u001b[38;5;241m=\u001b[39m place[\u001b[38;5;124m'\u001b[39m\u001b[38;5;124mplace_id\u001b[39m\u001b[38;5;124m'\u001b[39m]\n\u001b[1;32m      9\u001b[0m     \u001b[38;5;66;03m#a = place['geometry']\u001b[39;00m\n\u001b[1;32m     10\u001b[0m     \u001b[38;5;66;03m#b = a['location']\u001b[39;00m\n\u001b[1;32m     11\u001b[0m     \u001b[38;5;66;03m#lat = b['lat']\u001b[39;00m\n\u001b[1;32m     12\u001b[0m     \u001b[38;5;66;03m#lng = b['lng']\u001b[39;00m\n",
      "\u001b[0;31mTypeError\u001b[0m: list indices must be integers or slices, not str"
     ]
    }
   ],
   "source": [
    "name = []\n",
    "lati = []\n",
    "lng =[]\n",
    "ratings =[]\n",
    "n_reviews =[]\n",
    "price = []\n",
    "for place in restaurant_extend['place_id']:\n",
    "    ids = place['place_id']\n",
    "    #a = place['geometry']\n",
    "    #b = a['location']\n",
    "    #lat = b['lat']\n",
    "    #lng = b['lng']\n",
    "    place_values = ['name','geometry','rating','reviews','price_level']\n",
    "    url = \"https://maps.googleapis.com/maps/api/place/details/json?place_id=\"+str(ids)+\"&fields=name%2Cgeometry%2Creviews%Cprice_level&key=YOUR_API_KEY\"\n",
    "    response = requests.request(\"GET\", url,) #headers=headers, data=payload)\n",
    "    results = json.loads(response.content)"
   ]
  },
  {
   "cell_type": "code",
   "execution_count": 55,
   "id": "9e6db725",
   "metadata": {},
   "outputs": [
    {
     "ename": "SyntaxError",
     "evalue": "invalid syntax (2567593228.py, line 21)",
     "output_type": "error",
     "traceback": [
      "\u001b[0;36m  Input \u001b[0;32mIn [55]\u001b[0;36m\u001b[0m\n\u001b[0;31m    except:\u001b[0m\n\u001b[0m    ^\u001b[0m\n\u001b[0;31mSyntaxError\u001b[0m\u001b[0;31m:\u001b[0m invalid syntax\n"
     ]
    }
   ],
   "source": [
    "for i in range(len(results)):\n",
    "    values = results[i]\n",
    "    try:\n",
    "        name.append(values['name'])\n",
    "    except:\n",
    "        name.append('none')\n",
    "    try:\n",
    "        lati.append(values['geometry']['location']['lat'])\n",
    "    except:\n",
    "        lati.append('none')\n",
    "    try:\n",
    "        lng.append(values['geometry']['location']['lng'])\n",
    "    except:\n",
    "        lng.append('none')\n",
    "    try:\n",
    "        ratings.append(values['ratings'])\n",
    "    except:\n",
    "        ratings.append('none')\n",
    "    try:\n",
    "        n_reviews.append(len(values['reviews'])\n",
    "    except:\n",
    "        n_reviews.append('none') \n",
    "    try:\n",
    "        price.append(values['price_level'])\n",
    "    except:\n",
    "        price.append('none')"
   ]
  },
  {
   "cell_type": "code",
   "execution_count": 52,
   "id": "1c298276",
   "metadata": {},
   "outputs": [],
   "source": [
    "diction = {'Name': name,'Lati':lati,'Lng':lng,'Ratings':ratings,'N_Reviews':n_reviews,'Price':price}\n"
   ]
  },
  {
   "cell_type": "code",
   "execution_count": 53,
   "id": "360e74ba",
   "metadata": {},
   "outputs": [],
   "source": [
    "df =  pd.DataFrame(diction)"
   ]
  },
  {
   "cell_type": "code",
   "execution_count": 54,
   "id": "c4883bba",
   "metadata": {},
   "outputs": [],
   "source": [
    "df.to_csv('out.csv')"
   ]
  },
  {
   "cell_type": "code",
   "execution_count": null,
   "id": "58afc1a0",
   "metadata": {},
   "outputs": [],
   "source": []
  },
  {
   "cell_type": "code",
   "execution_count": null,
   "id": "562f1074",
   "metadata": {},
   "outputs": [],
   "source": []
  },
  {
   "cell_type": "code",
   "execution_count": null,
   "id": "02d2a06c",
   "metadata": {},
   "outputs": [],
   "source": []
  },
  {
   "cell_type": "code",
   "execution_count": null,
   "id": "06e0d518",
   "metadata": {},
   "outputs": [],
   "source": []
  },
  {
   "cell_type": "code",
   "execution_count": null,
   "id": "21cb0fd7",
   "metadata": {},
   "outputs": [],
   "source": []
  }
 ],
 "metadata": {
  "kernelspec": {
   "display_name": "Python 3 (ipykernel)",
   "language": "python",
   "name": "python3"
  },
  "language_info": {
   "codemirror_mode": {
    "name": "ipython",
    "version": 3
   },
   "file_extension": ".py",
   "mimetype": "text/x-python",
   "name": "python",
   "nbconvert_exporter": "python",
   "pygments_lexer": "ipython3",
   "version": "3.8.10"
  }
 },
 "nbformat": 4,
 "nbformat_minor": 5
}
